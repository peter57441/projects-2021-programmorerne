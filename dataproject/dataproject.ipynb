{
 "cells": [
  {
   "cell_type": "markdown",
   "metadata": {
    "collapsed": false
   },
   "source": [
    "# Data project: Connection between education level and unemployment"
   ]
  },
  {
   "cell_type": "code",
   "execution_count": 1,
   "metadata": {
    "collapsed": false
   },
   "outputs": [
   ],
   "source": [
    "import pandas as pd\n",
    "import matplotlib.pyplot as plt\n",
    "import ipywidgets as widgets\n",
    "from matplotlib_venn import venn2\n",
    "import numpy as np\n",
    "import statistics\n",
    "\n",
    "\n",
    "# autoreload modules when code is run\n",
    "%load_ext autoreload\n",
    "%autoreload 2\n"
   ]
  },
  {
   "cell_type": "markdown",
   "metadata": {
    "collapsed": false
   },
   "source": [
    "# Read and clean data"
   ]
  },
  {
   "cell_type": "markdown",
   "metadata": {
    "collapsed": false
   },
   "source": [
    "In order to examine the link between education level and unemployment at the Danish labor market, we use data from Statistics Denmark.\n",
    "\n",
    "Education data contains the number of people with the highest completed education in the year 2019 (source: https://www.statistikbanken.dk/hfaudd11).\n",
    "\n",
    "The unemployment data consists of the number of full-time unemployed people in the entire work force in Denmark in 2019 (source: https://www.statistikbanken.dk/aul01).\n",
    "\n",
    "Thus, both data sets are cross-sectional data."
   ]
  },
  {
   "cell_type": "markdown",
   "metadata": {
    "collapsed": false
   },
   "source": [
    "## Education data"
   ]
  },
  {
   "cell_type": "markdown",
   "metadata": {
    "collapsed": false
   },
   "source": [
    "**We load the education data** in ``HFAUDD11.xlsx``. \n",
    "\n",
    "The data looks like the following to begin with:"
   ]
  },
  {
   "cell_type": "markdown",
   "metadata": {
    "collapsed": false
   },
   "source": [
    "**Code:**"
   ]
  },
  {
   "cell_type": "code",
   "execution_count": 2,
   "metadata": {
    "collapsed": false
   },
   "outputs": [
    {
     "data": {
      "text/html": [
       "<div>\n",
       "<style scoped>\n",
       "    .dataframe tbody tr th:only-of-type {\n",
       "        vertical-align: middle;\n",
       "    }\n",
       "\n",
       "    .dataframe tbody tr th {\n",
       "        vertical-align: top;\n",
       "    }\n",
       "\n",
       "    .dataframe thead th {\n",
       "        text-align: right;\n",
       "    }\n",
       "</style>\n",
       "<table border=\"1\" class=\"dataframe\">\n",
       "  <thead>\n",
       "    <tr style=\"text-align: right;\">\n",
       "      <th></th>\n",
       "      <th>Unnamed: 0</th>\n",
       "      <th>Unnamed: 1</th>\n",
       "      <th>Unnamed: 2</th>\n",
       "      <th>Unnamed: 3</th>\n",
       "      <th>Unnamed: 4</th>\n",
       "      <th>I alt</th>\n",
       "      <th>H10 Grundskole</th>\n",
       "      <th>H20 Gymnasiale uddannelser</th>\n",
       "      <th>H30 Erhvervsfaglige uddannelser</th>\n",
       "      <th>H40 Korte videregående uddannelser, KVU</th>\n",
       "      <th>H50 Mellemlange videregående uddannelser, MVU</th>\n",
       "      <th>H60 Bacheloruddannelser, BACH</th>\n",
       "      <th>H70 Lange videregående uddannelser, LVU</th>\n",
       "      <th>H80 Ph.d. og forskeruddannelser</th>\n",
       "      <th>H90 Uoplyst mv.</th>\n",
       "    </tr>\n",
       "  </thead>\n",
       "  <tbody>\n",
       "    <tr>\n",
       "      <th>0</th>\n",
       "      <td>I alt</td>\n",
       "      <td>I alt</td>\n",
       "      <td>Hele landet</td>\n",
       "      <td>2019.0</td>\n",
       "      <td>25-29 år</td>\n",
       "      <td>399766.0</td>\n",
       "      <td>61703.0</td>\n",
       "      <td>54755.0</td>\n",
       "      <td>89828.0</td>\n",
       "      <td>22173.0</td>\n",
       "      <td>72898.0</td>\n",
       "      <td>31450.0</td>\n",
       "      <td>63129.0</td>\n",
       "      <td>766.0</td>\n",
       "      <td>2566.0</td>\n",
       "    </tr>\n",
       "    <tr>\n",
       "      <th>1</th>\n",
       "      <td>NaN</td>\n",
       "      <td>NaN</td>\n",
       "      <td>NaN</td>\n",
       "      <td>NaN</td>\n",
       "      <td>30-34 år</td>\n",
       "      <td>356645.0</td>\n",
       "      <td>53678.0</td>\n",
       "      <td>22719.0</td>\n",
       "      <td>93256.0</td>\n",
       "      <td>20089.0</td>\n",
       "      <td>72195.0</td>\n",
       "      <td>9817.0</td>\n",
       "      <td>75281.0</td>\n",
       "      <td>5407.0</td>\n",
       "      <td>3793.0</td>\n",
       "    </tr>\n",
       "    <tr>\n",
       "      <th>2</th>\n",
       "      <td>NaN</td>\n",
       "      <td>NaN</td>\n",
       "      <td>NaN</td>\n",
       "      <td>NaN</td>\n",
       "      <td>35-39 år</td>\n",
       "      <td>329704.0</td>\n",
       "      <td>49383.0</td>\n",
       "      <td>17300.0</td>\n",
       "      <td>98698.0</td>\n",
       "      <td>20382.0</td>\n",
       "      <td>64166.0</td>\n",
       "      <td>7071.0</td>\n",
       "      <td>60821.0</td>\n",
       "      <td>7683.0</td>\n",
       "      <td>3884.0</td>\n",
       "    </tr>\n",
       "    <tr>\n",
       "      <th>3</th>\n",
       "      <td>NaN</td>\n",
       "      <td>NaN</td>\n",
       "      <td>NaN</td>\n",
       "      <td>NaN</td>\n",
       "      <td>40-44 år</td>\n",
       "      <td>366721.0</td>\n",
       "      <td>53517.0</td>\n",
       "      <td>19203.0</td>\n",
       "      <td>123882.0</td>\n",
       "      <td>25426.0</td>\n",
       "      <td>69800.0</td>\n",
       "      <td>7708.0</td>\n",
       "      <td>55223.0</td>\n",
       "      <td>6926.0</td>\n",
       "      <td>4751.0</td>\n",
       "    </tr>\n",
       "    <tr>\n",
       "      <th>4</th>\n",
       "      <td>NaN</td>\n",
       "      <td>NaN</td>\n",
       "      <td>NaN</td>\n",
       "      <td>NaN</td>\n",
       "      <td>45-49 år</td>\n",
       "      <td>391815.0</td>\n",
       "      <td>63914.0</td>\n",
       "      <td>21847.0</td>\n",
       "      <td>142036.0</td>\n",
       "      <td>27727.0</td>\n",
       "      <td>70978.0</td>\n",
       "      <td>6667.0</td>\n",
       "      <td>47428.0</td>\n",
       "      <td>5841.0</td>\n",
       "      <td>5059.0</td>\n",
       "    </tr>\n",
       "    <tr>\n",
       "      <th>5</th>\n",
       "      <td>NaN</td>\n",
       "      <td>NaN</td>\n",
       "      <td>NaN</td>\n",
       "      <td>NaN</td>\n",
       "      <td>50-54 år</td>\n",
       "      <td>414671.0</td>\n",
       "      <td>73870.0</td>\n",
       "      <td>23867.0</td>\n",
       "      <td>168381.0</td>\n",
       "      <td>25352.0</td>\n",
       "      <td>69322.0</td>\n",
       "      <td>4791.0</td>\n",
       "      <td>38431.0</td>\n",
       "      <td>4445.0</td>\n",
       "      <td>5885.0</td>\n",
       "    </tr>\n",
       "    <tr>\n",
       "      <th>6</th>\n",
       "      <td>NaN</td>\n",
       "      <td>NaN</td>\n",
       "      <td>NaN</td>\n",
       "      <td>NaN</td>\n",
       "      <td>55-59 år</td>\n",
       "      <td>385674.0</td>\n",
       "      <td>80215.0</td>\n",
       "      <td>20407.0</td>\n",
       "      <td>157021.0</td>\n",
       "      <td>20778.0</td>\n",
       "      <td>63464.0</td>\n",
       "      <td>3555.0</td>\n",
       "      <td>28887.0</td>\n",
       "      <td>3371.0</td>\n",
       "      <td>7660.0</td>\n",
       "    </tr>\n",
       "    <tr>\n",
       "      <th>7</th>\n",
       "      <td>NaN</td>\n",
       "      <td>NaN</td>\n",
       "      <td>NaN</td>\n",
       "      <td>NaN</td>\n",
       "      <td>60-64 år</td>\n",
       "      <td>343995.0</td>\n",
       "      <td>86428.0</td>\n",
       "      <td>14216.0</td>\n",
       "      <td>128748.0</td>\n",
       "      <td>16695.0</td>\n",
       "      <td>59298.0</td>\n",
       "      <td>2265.0</td>\n",
       "      <td>24608.0</td>\n",
       "      <td>2108.0</td>\n",
       "      <td>9306.0</td>\n",
       "    </tr>\n",
       "    <tr>\n",
       "      <th>8</th>\n",
       "      <td>NaN</td>\n",
       "      <td>NaN</td>\n",
       "      <td>NaN</td>\n",
       "      <td>NaN</td>\n",
       "      <td>65-69 år</td>\n",
       "      <td>319431.0</td>\n",
       "      <td>80468.0</td>\n",
       "      <td>10268.0</td>\n",
       "      <td>129916.0</td>\n",
       "      <td>12581.0</td>\n",
       "      <td>58256.0</td>\n",
       "      <td>1881.0</td>\n",
       "      <td>21707.0</td>\n",
       "      <td>1193.0</td>\n",
       "      <td>2805.0</td>\n",
       "    </tr>\n",
       "    <tr>\n",
       "      <th>9</th>\n",
       "      <td>NaN</td>\n",
       "      <td>NaN</td>\n",
       "      <td>NaN</td>\n",
       "      <td>NaN</td>\n",
       "      <td>NaN</td>\n",
       "      <td>NaN</td>\n",
       "      <td>NaN</td>\n",
       "      <td>NaN</td>\n",
       "      <td>NaN</td>\n",
       "      <td>NaN</td>\n",
       "      <td>NaN</td>\n",
       "      <td>NaN</td>\n",
       "      <td>NaN</td>\n",
       "      <td>NaN</td>\n",
       "      <td>NaN</td>\n",
       "    </tr>\n",
       "    <tr>\n",
       "      <th>10</th>\n",
       "      <td>NaN</td>\n",
       "      <td>NaN</td>\n",
       "      <td>NaN</td>\n",
       "      <td>NaN</td>\n",
       "      <td>NaN</td>\n",
       "      <td>NaN</td>\n",
       "      <td>NaN</td>\n",
       "      <td>NaN</td>\n",
       "      <td>NaN</td>\n",
       "      <td>NaN</td>\n",
       "      <td>NaN</td>\n",
       "      <td>NaN</td>\n",
       "      <td>NaN</td>\n",
       "      <td>NaN</td>\n",
       "      <td>NaN</td>\n",
       "    </tr>\n",
       "    <tr>\n",
       "      <th>11</th>\n",
       "      <td>Befolkningen mellem 15 og 69 år og deres højes...</td>\n",
       "      <td>NaN</td>\n",
       "      <td>NaN</td>\n",
       "      <td>NaN</td>\n",
       "      <td>NaN</td>\n",
       "      <td>NaN</td>\n",
       "      <td>NaN</td>\n",
       "      <td>NaN</td>\n",
       "      <td>NaN</td>\n",
       "      <td>NaN</td>\n",
       "      <td>NaN</td>\n",
       "      <td>NaN</td>\n",
       "      <td>NaN</td>\n",
       "      <td>NaN</td>\n",
       "      <td>NaN</td>\n",
       "    </tr>\n",
       "  </tbody>\n",
       "</table>\n",
       "</div>"
      ],
      "text/plain": [
       "                                           Unnamed: 0 Unnamed: 1   Unnamed: 2  \\\n",
       "0                                               I alt      I alt  Hele landet   \n",
       "1                                                 NaN        NaN          NaN   \n",
       "2                                                 NaN        NaN          NaN   \n",
       "3                                                 NaN        NaN          NaN   \n",
       "4                                                 NaN        NaN          NaN   \n",
       "5                                                 NaN        NaN          NaN   \n",
       "6                                                 NaN        NaN          NaN   \n",
       "7                                                 NaN        NaN          NaN   \n",
       "8                                                 NaN        NaN          NaN   \n",
       "9                                                 NaN        NaN          NaN   \n",
       "10                                                NaN        NaN          NaN   \n",
       "11  Befolkningen mellem 15 og 69 år og deres højes...        NaN          NaN   \n",
       "\n",
       "    Unnamed: 3 Unnamed: 4     I alt  H10 Grundskole  \\\n",
       "0       2019.0   25-29 år  399766.0         61703.0   \n",
       "1          NaN   30-34 år  356645.0         53678.0   \n",
       "2          NaN   35-39 år  329704.0         49383.0   \n",
       "3          NaN   40-44 år  366721.0         53517.0   \n",
       "4          NaN   45-49 år  391815.0         63914.0   \n",
       "5          NaN   50-54 år  414671.0         73870.0   \n",
       "6          NaN   55-59 år  385674.0         80215.0   \n",
       "7          NaN   60-64 år  343995.0         86428.0   \n",
       "8          NaN   65-69 år  319431.0         80468.0   \n",
       "9          NaN        NaN       NaN             NaN   \n",
       "10         NaN        NaN       NaN             NaN   \n",
       "11         NaN        NaN       NaN             NaN   \n",
       "\n",
       "    H20 Gymnasiale uddannelser  H30 Erhvervsfaglige uddannelser  \\\n",
       "0                      54755.0                          89828.0   \n",
       "1                      22719.0                          93256.0   \n",
       "2                      17300.0                          98698.0   \n",
       "3                      19203.0                         123882.0   \n",
       "4                      21847.0                         142036.0   \n",
       "5                      23867.0                         168381.0   \n",
       "6                      20407.0                         157021.0   \n",
       "7                      14216.0                         128748.0   \n",
       "8                      10268.0                         129916.0   \n",
       "9                          NaN                              NaN   \n",
       "10                         NaN                              NaN   \n",
       "11                         NaN                              NaN   \n",
       "\n",
       "    H40 Korte videregående uddannelser, KVU  \\\n",
       "0                                   22173.0   \n",
       "1                                   20089.0   \n",
       "2                                   20382.0   \n",
       "3                                   25426.0   \n",
       "4                                   27727.0   \n",
       "5                                   25352.0   \n",
       "6                                   20778.0   \n",
       "7                                   16695.0   \n",
       "8                                   12581.0   \n",
       "9                                       NaN   \n",
       "10                                      NaN   \n",
       "11                                      NaN   \n",
       "\n",
       "    H50 Mellemlange videregående uddannelser, MVU  \\\n",
       "0                                         72898.0   \n",
       "1                                         72195.0   \n",
       "2                                         64166.0   \n",
       "3                                         69800.0   \n",
       "4                                         70978.0   \n",
       "5                                         69322.0   \n",
       "6                                         63464.0   \n",
       "7                                         59298.0   \n",
       "8                                         58256.0   \n",
       "9                                             NaN   \n",
       "10                                            NaN   \n",
       "11                                            NaN   \n",
       "\n",
       "    H60 Bacheloruddannelser, BACH  H70 Lange videregående uddannelser, LVU  \\\n",
       "0                         31450.0                                  63129.0   \n",
       "1                          9817.0                                  75281.0   \n",
       "2                          7071.0                                  60821.0   \n",
       "3                          7708.0                                  55223.0   \n",
       "4                          6667.0                                  47428.0   \n",
       "5                          4791.0                                  38431.0   \n",
       "6                          3555.0                                  28887.0   \n",
       "7                          2265.0                                  24608.0   \n",
       "8                          1881.0                                  21707.0   \n",
       "9                             NaN                                      NaN   \n",
       "10                            NaN                                      NaN   \n",
       "11                            NaN                                      NaN   \n",
       "\n",
       "    H80 Ph.d. og forskeruddannelser  H90 Uoplyst mv.  \n",
       "0                             766.0           2566.0  \n",
       "1                            5407.0           3793.0  \n",
       "2                            7683.0           3884.0  \n",
       "3                            6926.0           4751.0  \n",
       "4                            5841.0           5059.0  \n",
       "5                            4445.0           5885.0  \n",
       "6                            3371.0           7660.0  \n",
       "7                            2108.0           9306.0  \n",
       "8                            1193.0           2805.0  \n",
       "9                               NaN              NaN  \n",
       "10                              NaN              NaN  \n",
       "11                              NaN              NaN  "
      ]
     },
     "execution_count": 2,
     "metadata": {
     },
     "output_type": "execute_result"
    }
   ],
   "source": [
    "# Loading data\n",
    "udda = pd.read_excel('HFUDD11_ny.xlsx', skiprows=2)\n",
    "udda"
   ]
  },
  {
   "cell_type": "markdown",
   "metadata": {
    "collapsed": false
   },
   "source": [
    "We clean the data by removing and renaming columns and deleting empty cells. Furthermore, we generate shares of each education level and insert these in the table while deleting the absolute values."
   ]
  },
  {
   "cell_type": "markdown",
   "metadata": {
    "collapsed": false
   },
   "source": [
    "**Code:**"
   ]
  },
  {
   "cell_type": "code",
   "execution_count": 3,
   "metadata": {
    "collapsed": false,
    "scrolled": true
   },
   "outputs": [
   ],
   "source": [
    "# Dropping unnamed columns\n",
    "udda.drop(['Unnamed: 0', 'Unnamed: 1', 'Unnamed: 2', 'Unnamed: 3','I alt'], axis = 1, inplace = True)\n",
    "\n",
    "# Renaming columns\n",
    "udda.rename(columns = {'Unnamed: 4':'Age', 'H10 Grundskole':'Primary_school', 'H20 Gymnasiale uddannelser':'High_school', 'H30 Erhvervsfaglige uddannelser':'Vocational_education','H40 Korte videregående uddannelser, KVU':'Short_higher_education', 'H50 Mellemlange videregående uddannelser, MVU':'Medium_higher_education', 'H60 Bacheloruddannelser, BACH':'Bachelor_degree', 'H70 Lange videregående uddannelser, LVU':'Long_higher_education', 'H80 Ph.d. og forskeruddannelser':'Phd', 'H90 Uoplyst mv.':'Missing'}, inplace = True)\n",
    "\n",
    "# Multiplying the two last rows to obtain categories corresponding to the unemployment data\n",
    "new_row = udda.iloc[7] + udda.iloc[8]\n",
    "educ1 = udda.append([new_row], ignore_index = True)\n",
    "\n",
    "# Inserting new column and reindexing rows \n",
    "educ2 = educ1.iloc[[0,1,2,3,4,5,6,12]].reset_index(drop = True)\n",
    "\n",
    "# Summing all the rows\n",
    "all_rows = educ2.iloc[0] + educ2.iloc[1] + educ2.iloc[2] + educ2.iloc[3] + educ2.iloc[4] + educ2.iloc[5] + educ2.iloc[6] + educ2.iloc[7]\n",
    "educ = educ2.append([all_rows], ignore_index = True)\n",
    "educ.drop('Age', axis = 'columns', inplace = True)\n",
    "educ.insert(0, \"Age\", ['25-29 years', '30-34 years', '35-39 years', '40-44 years', '45-49 years', '50-54 years', '55-59 years', 'Above 60 years', 'Total'])\n",
    "\n",
    "# Generating shares for each colum\n",
    "col_1 = []\n",
    "for row in range(9):\n",
    "    h = educ.iloc[row,1] / educ.iloc[8,1]\n",
    "    col_1.append(h)\n",
    "\n",
    "col_2 = []\n",
    "for row in range(9):\n",
    "    h = educ.iloc[row,2] / educ.iloc[8,2]\n",
    "    col_2.append(h)\n",
    "    \n",
    "col_3 = []\n",
    "for row in range(9):\n",
    "    h = educ.iloc[row,3] / educ.iloc[8,3]\n",
    "    col_3.append(h)\n",
    "\n",
    "col_4 = []\n",
    "for row in range(9):\n",
    "    h = educ.iloc[row,4] / educ.iloc[8,4]\n",
    "    col_4.append(h)\n",
    "    \n",
    "col_5 = []\n",
    "for row in range(9):\n",
    "    h = educ.iloc[row,5] / educ.iloc[8,5]\n",
    "    col_5.append(h)\n",
    "\n",
    "col_6 = []\n",
    "for row in range(9):\n",
    "    h = educ.iloc[row,6] / educ.iloc[8,6]\n",
    "    col_6.append(h)\n",
    "    \n",
    "col_7 = []\n",
    "for row in range(9):\n",
    "    h = educ.iloc[row,7] / educ.iloc[8,7]\n",
    "    col_7.append(h)\n",
    "    \n",
    "col_8 = []\n",
    "for row in range(9):\n",
    "    h = educ.iloc[row,8] / educ.iloc[8,8]\n",
    "    col_8.append(h)\n",
    "    \n",
    "col_9 = []\n",
    "for row in range(9):\n",
    "    h = educ.iloc[row,9] / educ.iloc[8,9]\n",
    "    col_9.append(h)\n",
    "\n",
    "# Inserting the new data to the existing table\n",
    "educ.insert(1, \"Share_ primary_school\", col_1)\n",
    "educ.insert(2, \"Share_high_school\", col_2)\n",
    "educ.insert(3, \"Share_vocational_education\", col_3)\n",
    "educ.insert(4, \"Share_short_higher_education\", col_4)\n",
    "educ.insert(5, \"Share_medium_higher_education\", col_5)\n",
    "educ.insert(6, \"Share_bachelor_degree\", col_6)\n",
    "educ.insert(7, \"Share_long_higher_education\", col_7)\n",
    "educ.insert(8, \"Share_phd\", col_8)\n",
    "educ.insert(9, \"Share_missing_education\", col_9)\n",
    "\n",
    "# Deleting the absolute values and the 'Total' row\n",
    "educ.drop(['Primary_school', 'High_school', 'Vocational_education', 'Short_higher_education', 'Medium_higher_education', 'Bachelor_degree', 'Long_higher_education', 'Phd', 'Missing'], axis = 'columns', inplace = True)"
   ]
  },
  {
   "cell_type": "markdown",
   "metadata": {
    "collapsed": false
   },
   "source": [
    "The dataset now looks like this:"
   ]
  },
  {
   "cell_type": "code",
   "execution_count": 4,
   "metadata": {
    "collapsed": false
   },
   "outputs": [
    {
     "data": {
      "text/html": [
       "<div>\n",
       "<style scoped>\n",
       "    .dataframe tbody tr th:only-of-type {\n",
       "        vertical-align: middle;\n",
       "    }\n",
       "\n",
       "    .dataframe tbody tr th {\n",
       "        vertical-align: top;\n",
       "    }\n",
       "\n",
       "    .dataframe thead th {\n",
       "        text-align: right;\n",
       "    }\n",
       "</style>\n",
       "<table border=\"1\" class=\"dataframe\">\n",
       "  <thead>\n",
       "    <tr style=\"text-align: right;\">\n",
       "      <th></th>\n",
       "      <th>Age</th>\n",
       "      <th>Share_ primary_school</th>\n",
       "      <th>Share_high_school</th>\n",
       "      <th>Share_vocational_education</th>\n",
       "      <th>Share_short_higher_education</th>\n",
       "      <th>Share_medium_higher_education</th>\n",
       "      <th>Share_bachelor_degree</th>\n",
       "      <th>Share_long_higher_education</th>\n",
       "      <th>Share_phd</th>\n",
       "      <th>Share_missing_education</th>\n",
       "    </tr>\n",
       "  </thead>\n",
       "  <tbody>\n",
       "    <tr>\n",
       "      <th>0</th>\n",
       "      <td>25-29 years</td>\n",
       "      <td>0.102297</td>\n",
       "      <td>0.267643</td>\n",
       "      <td>0.079370</td>\n",
       "      <td>0.115966</td>\n",
       "      <td>0.121420</td>\n",
       "      <td>0.418190</td>\n",
       "      <td>0.151930</td>\n",
       "      <td>0.020297</td>\n",
       "      <td>0.056138</td>\n",
       "    </tr>\n",
       "    <tr>\n",
       "      <th>1</th>\n",
       "      <td>30-34 years</td>\n",
       "      <td>0.088992</td>\n",
       "      <td>0.111051</td>\n",
       "      <td>0.082399</td>\n",
       "      <td>0.105066</td>\n",
       "      <td>0.120249</td>\n",
       "      <td>0.130537</td>\n",
       "      <td>0.181175</td>\n",
       "      <td>0.143270</td>\n",
       "      <td>0.082981</td>\n",
       "    </tr>\n",
       "    <tr>\n",
       "      <th>2</th>\n",
       "      <td>35-39 years</td>\n",
       "      <td>0.081872</td>\n",
       "      <td>0.084563</td>\n",
       "      <td>0.087207</td>\n",
       "      <td>0.106599</td>\n",
       "      <td>0.106876</td>\n",
       "      <td>0.094023</td>\n",
       "      <td>0.146375</td>\n",
       "      <td>0.203577</td>\n",
       "      <td>0.084972</td>\n",
       "    </tr>\n",
       "    <tr>\n",
       "      <th>3</th>\n",
       "      <td>40-44 years</td>\n",
       "      <td>0.088725</td>\n",
       "      <td>0.093865</td>\n",
       "      <td>0.109459</td>\n",
       "      <td>0.132979</td>\n",
       "      <td>0.116260</td>\n",
       "      <td>0.102493</td>\n",
       "      <td>0.132903</td>\n",
       "      <td>0.183519</td>\n",
       "      <td>0.103940</td>\n",
       "    </tr>\n",
       "    <tr>\n",
       "      <th>4</th>\n",
       "      <td>45-49 years</td>\n",
       "      <td>0.105962</td>\n",
       "      <td>0.106788</td>\n",
       "      <td>0.125499</td>\n",
       "      <td>0.145013</td>\n",
       "      <td>0.118222</td>\n",
       "      <td>0.088651</td>\n",
       "      <td>0.114143</td>\n",
       "      <td>0.154769</td>\n",
       "      <td>0.110678</td>\n",
       "    </tr>\n",
       "    <tr>\n",
       "      <th>5</th>\n",
       "      <td>50-54 years</td>\n",
       "      <td>0.122468</td>\n",
       "      <td>0.116662</td>\n",
       "      <td>0.148777</td>\n",
       "      <td>0.132592</td>\n",
       "      <td>0.115464</td>\n",
       "      <td>0.063706</td>\n",
       "      <td>0.092490</td>\n",
       "      <td>0.117780</td>\n",
       "      <td>0.128749</td>\n",
       "    </tr>\n",
       "    <tr>\n",
       "      <th>6</th>\n",
       "      <td>55-59 years</td>\n",
       "      <td>0.132988</td>\n",
       "      <td>0.099750</td>\n",
       "      <td>0.138740</td>\n",
       "      <td>0.108670</td>\n",
       "      <td>0.105707</td>\n",
       "      <td>0.047271</td>\n",
       "      <td>0.069521</td>\n",
       "      <td>0.089322</td>\n",
       "      <td>0.167582</td>\n",
       "    </tr>\n",
       "    <tr>\n",
       "      <th>7</th>\n",
       "      <td>Above 60 years</td>\n",
       "      <td>0.276695</td>\n",
       "      <td>0.119678</td>\n",
       "      <td>0.228549</td>\n",
       "      <td>0.153115</td>\n",
       "      <td>0.195800</td>\n",
       "      <td>0.055129</td>\n",
       "      <td>0.111464</td>\n",
       "      <td>0.087467</td>\n",
       "      <td>0.264959</td>\n",
       "    </tr>\n",
       "    <tr>\n",
       "      <th>8</th>\n",
       "      <td>Total</td>\n",
       "      <td>1.000000</td>\n",
       "      <td>1.000000</td>\n",
       "      <td>1.000000</td>\n",
       "      <td>1.000000</td>\n",
       "      <td>1.000000</td>\n",
       "      <td>1.000000</td>\n",
       "      <td>1.000000</td>\n",
       "      <td>1.000000</td>\n",
       "      <td>1.000000</td>\n",
       "    </tr>\n",
       "  </tbody>\n",
       "</table>\n",
       "</div>"
      ],
      "text/plain": [
       "              Age  Share_ primary_school  Share_high_school  \\\n",
       "0     25-29 years               0.102297           0.267643   \n",
       "1     30-34 years               0.088992           0.111051   \n",
       "2     35-39 years               0.081872           0.084563   \n",
       "3     40-44 years               0.088725           0.093865   \n",
       "4     45-49 years               0.105962           0.106788   \n",
       "5     50-54 years               0.122468           0.116662   \n",
       "6     55-59 years               0.132988           0.099750   \n",
       "7  Above 60 years               0.276695           0.119678   \n",
       "8           Total               1.000000           1.000000   \n",
       "\n",
       "   Share_vocational_education  Share_short_higher_education  \\\n",
       "0                    0.079370                      0.115966   \n",
       "1                    0.082399                      0.105066   \n",
       "2                    0.087207                      0.106599   \n",
       "3                    0.109459                      0.132979   \n",
       "4                    0.125499                      0.145013   \n",
       "5                    0.148777                      0.132592   \n",
       "6                    0.138740                      0.108670   \n",
       "7                    0.228549                      0.153115   \n",
       "8                    1.000000                      1.000000   \n",
       "\n",
       "   Share_medium_higher_education  Share_bachelor_degree  \\\n",
       "0                       0.121420               0.418190   \n",
       "1                       0.120249               0.130537   \n",
       "2                       0.106876               0.094023   \n",
       "3                       0.116260               0.102493   \n",
       "4                       0.118222               0.088651   \n",
       "5                       0.115464               0.063706   \n",
       "6                       0.105707               0.047271   \n",
       "7                       0.195800               0.055129   \n",
       "8                       1.000000               1.000000   \n",
       "\n",
       "   Share_long_higher_education  Share_phd  Share_missing_education  \n",
       "0                     0.151930   0.020297                 0.056138  \n",
       "1                     0.181175   0.143270                 0.082981  \n",
       "2                     0.146375   0.203577                 0.084972  \n",
       "3                     0.132903   0.183519                 0.103940  \n",
       "4                     0.114143   0.154769                 0.110678  \n",
       "5                     0.092490   0.117780                 0.128749  \n",
       "6                     0.069521   0.089322                 0.167582  \n",
       "7                     0.111464   0.087467                 0.264959  \n",
       "8                     1.000000   1.000000                 1.000000  "
      ]
     },
     "execution_count": 4,
     "metadata": {
     },
     "output_type": "execute_result"
    }
   ],
   "source": [
    "educ"
   ]
  },
  {
   "cell_type": "markdown",
   "metadata": {
    "collapsed": false
   },
   "source": [
    "## Unemployment data"
   ]
  },
  {
   "cell_type": "markdown",
   "metadata": {
    "collapsed": false
   },
   "source": [
    "**We load the education data** in ``AUL01.xlsx``. Again, we clean the data by removing and renaming columns. We generate the share of unemployment across the age groups, and insert it in the table."
   ]
  },
  {
   "cell_type": "markdown",
   "metadata": {
    "collapsed": false
   },
   "source": [
    "**Code:**"
   ]
  },
  {
   "cell_type": "code",
   "execution_count": 5,
   "metadata": {
    "collapsed": false
   },
   "outputs": [
   ],
   "source": [
    "unempl1 = pd.read_excel('AUL01.xlsx', skiprows=2)\n",
    "\n",
    "# Dropping columns\n",
    "unempl1.drop(['Unnamed: 0', 'Unnamed: 1', 'Unnamed: 2'], axis = 1, inplace = True)\n",
    "\n",
    "# Renaming columns \n",
    "unempl1.rename(columns = {'Unnamed: 3':'Age1','I alt':'Total'}, inplace = True)\n",
    "\n",
    "# Changing row names\n",
    "unempl2 = unempl1.iloc[0:9]\n",
    "unempl2.insert(0, \"Age\", ['Total','25-29 years', '30-34 years', '35-39 years', '40-44 years', '45-49 years', '50-54 years', '55-59 years', 'Above 60 years'])\n",
    "unempl = unempl2.drop('Age1', axis = 'columns')\n",
    "unempl\n",
    "\n",
    "# Generating share\n",
    "col=[]\n",
    "for row in range(9):\n",
    "    o=unempl.iloc[row,1] / unempl.iloc[0,1]\n",
    "    col.append(o)\n",
    "\n",
    "# Inserting the new data to the existing table\n",
    "unempl.insert(1, \"Share_total_unempl\", col)\n",
    "\n",
    "# Deleting the absolute values\n",
    "unempl.drop(['Total' ], axis = 'columns', inplace = True)"
   ]
  },
  {
   "cell_type": "markdown",
   "metadata": {
    "collapsed": false
   },
   "source": [
    "The unemployment data now looks like this:"
   ]
  },
  {
   "cell_type": "code",
   "execution_count": 6,
   "metadata": {
    "collapsed": false
   },
   "outputs": [
    {
     "data": {
      "text/html": [
       "<div>\n",
       "<style scoped>\n",
       "    .dataframe tbody tr th:only-of-type {\n",
       "        vertical-align: middle;\n",
       "    }\n",
       "\n",
       "    .dataframe tbody tr th {\n",
       "        vertical-align: top;\n",
       "    }\n",
       "\n",
       "    .dataframe thead th {\n",
       "        text-align: right;\n",
       "    }\n",
       "</style>\n",
       "<table border=\"1\" class=\"dataframe\">\n",
       "  <thead>\n",
       "    <tr style=\"text-align: right;\">\n",
       "      <th></th>\n",
       "      <th>Age</th>\n",
       "      <th>Share_total_unempl</th>\n",
       "    </tr>\n",
       "  </thead>\n",
       "  <tbody>\n",
       "    <tr>\n",
       "      <th>0</th>\n",
       "      <td>Total</td>\n",
       "      <td>1.000000</td>\n",
       "    </tr>\n",
       "    <tr>\n",
       "      <th>1</th>\n",
       "      <td>25-29 years</td>\n",
       "      <td>0.196663</td>\n",
       "    </tr>\n",
       "    <tr>\n",
       "      <th>2</th>\n",
       "      <td>30-34 years</td>\n",
       "      <td>0.161221</td>\n",
       "    </tr>\n",
       "    <tr>\n",
       "      <th>3</th>\n",
       "      <td>35-39 years</td>\n",
       "      <td>0.114499</td>\n",
       "    </tr>\n",
       "    <tr>\n",
       "      <th>4</th>\n",
       "      <td>40-44 years</td>\n",
       "      <td>0.098947</td>\n",
       "    </tr>\n",
       "    <tr>\n",
       "      <th>5</th>\n",
       "      <td>45-49 years</td>\n",
       "      <td>0.091128</td>\n",
       "    </tr>\n",
       "    <tr>\n",
       "      <th>6</th>\n",
       "      <td>50-54 years</td>\n",
       "      <td>0.095398</td>\n",
       "    </tr>\n",
       "    <tr>\n",
       "      <th>7</th>\n",
       "      <td>55-59 years</td>\n",
       "      <td>0.094119</td>\n",
       "    </tr>\n",
       "    <tr>\n",
       "      <th>8</th>\n",
       "      <td>Above 60 years</td>\n",
       "      <td>0.088858</td>\n",
       "    </tr>\n",
       "  </tbody>\n",
       "</table>\n",
       "</div>"
      ],
      "text/plain": [
       "              Age  Share_total_unempl\n",
       "0           Total            1.000000\n",
       "1     25-29 years            0.196663\n",
       "2     30-34 years            0.161221\n",
       "3     35-39 years            0.114499\n",
       "4     40-44 years            0.098947\n",
       "5     45-49 years            0.091128\n",
       "6     50-54 years            0.095398\n",
       "7     55-59 years            0.094119\n",
       "8  Above 60 years            0.088858"
      ]
     },
     "execution_count": 6,
     "metadata": {
     },
     "output_type": "execute_result"
    }
   ],
   "source": [
    "unempl"
   ]
  },
  {
   "cell_type": "markdown",
   "metadata": {
    "collapsed": false
   },
   "source": [
    "# Merging the two data sets"
   ]
  },
  {
   "cell_type": "markdown",
   "metadata": {
    "collapsed": false
   },
   "source": [
    "Now, the data sets are cleaned up and ready to be merged together. We use the inner merge function to merge one-to-one on 'Age' since we only have observations which are included in both data sets."
   ]
  },
  {
   "cell_type": "markdown",
   "metadata": {
    "collapsed": false
   },
   "source": [
    "**Code:**"
   ]
  },
  {
   "cell_type": "code",
   "execution_count": 7,
   "metadata": {
    "collapsed": false
   },
   "outputs": [
   ],
   "source": [
    "# Merging data sets\n",
    "merge = pd.merge(unempl, educ, how = 'inner',on = ['Age'])"
   ]
  },
  {
   "cell_type": "markdown",
   "metadata": {
    "collapsed": false
   },
   "source": [
    "The merged dataset looks like this:"
   ]
  },
  {
   "cell_type": "code",
   "execution_count": 8,
   "metadata": {
    "collapsed": false
   },
   "outputs": [
    {
     "data": {
      "text/html": [
       "<div>\n",
       "<style scoped>\n",
       "    .dataframe tbody tr th:only-of-type {\n",
       "        vertical-align: middle;\n",
       "    }\n",
       "\n",
       "    .dataframe tbody tr th {\n",
       "        vertical-align: top;\n",
       "    }\n",
       "\n",
       "    .dataframe thead th {\n",
       "        text-align: right;\n",
       "    }\n",
       "</style>\n",
       "<table border=\"1\" class=\"dataframe\">\n",
       "  <thead>\n",
       "    <tr style=\"text-align: right;\">\n",
       "      <th></th>\n",
       "      <th>Age</th>\n",
       "      <th>Share_total_unempl</th>\n",
       "      <th>Share_ primary_school</th>\n",
       "      <th>Share_high_school</th>\n",
       "      <th>Share_vocational_education</th>\n",
       "      <th>Share_short_higher_education</th>\n",
       "      <th>Share_medium_higher_education</th>\n",
       "      <th>Share_bachelor_degree</th>\n",
       "      <th>Share_long_higher_education</th>\n",
       "      <th>Share_phd</th>\n",
       "      <th>Share_missing_education</th>\n",
       "    </tr>\n",
       "  </thead>\n",
       "  <tbody>\n",
       "    <tr>\n",
       "      <th>0</th>\n",
       "      <td>Total</td>\n",
       "      <td>1.000000</td>\n",
       "      <td>1.000000</td>\n",
       "      <td>1.000000</td>\n",
       "      <td>1.000000</td>\n",
       "      <td>1.000000</td>\n",
       "      <td>1.000000</td>\n",
       "      <td>1.000000</td>\n",
       "      <td>1.000000</td>\n",
       "      <td>1.000000</td>\n",
       "      <td>1.000000</td>\n",
       "    </tr>\n",
       "    <tr>\n",
       "      <th>1</th>\n",
       "      <td>25-29 years</td>\n",
       "      <td>0.196663</td>\n",
       "      <td>0.102297</td>\n",
       "      <td>0.267643</td>\n",
       "      <td>0.079370</td>\n",
       "      <td>0.115966</td>\n",
       "      <td>0.121420</td>\n",
       "      <td>0.418190</td>\n",
       "      <td>0.151930</td>\n",
       "      <td>0.020297</td>\n",
       "      <td>0.056138</td>\n",
       "    </tr>\n",
       "    <tr>\n",
       "      <th>2</th>\n",
       "      <td>30-34 years</td>\n",
       "      <td>0.161221</td>\n",
       "      <td>0.088992</td>\n",
       "      <td>0.111051</td>\n",
       "      <td>0.082399</td>\n",
       "      <td>0.105066</td>\n",
       "      <td>0.120249</td>\n",
       "      <td>0.130537</td>\n",
       "      <td>0.181175</td>\n",
       "      <td>0.143270</td>\n",
       "      <td>0.082981</td>\n",
       "    </tr>\n",
       "    <tr>\n",
       "      <th>3</th>\n",
       "      <td>35-39 years</td>\n",
       "      <td>0.114499</td>\n",
       "      <td>0.081872</td>\n",
       "      <td>0.084563</td>\n",
       "      <td>0.087207</td>\n",
       "      <td>0.106599</td>\n",
       "      <td>0.106876</td>\n",
       "      <td>0.094023</td>\n",
       "      <td>0.146375</td>\n",
       "      <td>0.203577</td>\n",
       "      <td>0.084972</td>\n",
       "    </tr>\n",
       "    <tr>\n",
       "      <th>4</th>\n",
       "      <td>40-44 years</td>\n",
       "      <td>0.098947</td>\n",
       "      <td>0.088725</td>\n",
       "      <td>0.093865</td>\n",
       "      <td>0.109459</td>\n",
       "      <td>0.132979</td>\n",
       "      <td>0.116260</td>\n",
       "      <td>0.102493</td>\n",
       "      <td>0.132903</td>\n",
       "      <td>0.183519</td>\n",
       "      <td>0.103940</td>\n",
       "    </tr>\n",
       "    <tr>\n",
       "      <th>5</th>\n",
       "      <td>45-49 years</td>\n",
       "      <td>0.091128</td>\n",
       "      <td>0.105962</td>\n",
       "      <td>0.106788</td>\n",
       "      <td>0.125499</td>\n",
       "      <td>0.145013</td>\n",
       "      <td>0.118222</td>\n",
       "      <td>0.088651</td>\n",
       "      <td>0.114143</td>\n",
       "      <td>0.154769</td>\n",
       "      <td>0.110678</td>\n",
       "    </tr>\n",
       "    <tr>\n",
       "      <th>6</th>\n",
       "      <td>50-54 years</td>\n",
       "      <td>0.095398</td>\n",
       "      <td>0.122468</td>\n",
       "      <td>0.116662</td>\n",
       "      <td>0.148777</td>\n",
       "      <td>0.132592</td>\n",
       "      <td>0.115464</td>\n",
       "      <td>0.063706</td>\n",
       "      <td>0.092490</td>\n",
       "      <td>0.117780</td>\n",
       "      <td>0.128749</td>\n",
       "    </tr>\n",
       "    <tr>\n",
       "      <th>7</th>\n",
       "      <td>55-59 years</td>\n",
       "      <td>0.094119</td>\n",
       "      <td>0.132988</td>\n",
       "      <td>0.099750</td>\n",
       "      <td>0.138740</td>\n",
       "      <td>0.108670</td>\n",
       "      <td>0.105707</td>\n",
       "      <td>0.047271</td>\n",
       "      <td>0.069521</td>\n",
       "      <td>0.089322</td>\n",
       "      <td>0.167582</td>\n",
       "    </tr>\n",
       "    <tr>\n",
       "      <th>8</th>\n",
       "      <td>Above 60 years</td>\n",
       "      <td>0.088858</td>\n",
       "      <td>0.276695</td>\n",
       "      <td>0.119678</td>\n",
       "      <td>0.228549</td>\n",
       "      <td>0.153115</td>\n",
       "      <td>0.195800</td>\n",
       "      <td>0.055129</td>\n",
       "      <td>0.111464</td>\n",
       "      <td>0.087467</td>\n",
       "      <td>0.264959</td>\n",
       "    </tr>\n",
       "  </tbody>\n",
       "</table>\n",
       "</div>"
      ],
      "text/plain": [
       "              Age  Share_total_unempl  Share_ primary_school  \\\n",
       "0           Total            1.000000               1.000000   \n",
       "1     25-29 years            0.196663               0.102297   \n",
       "2     30-34 years            0.161221               0.088992   \n",
       "3     35-39 years            0.114499               0.081872   \n",
       "4     40-44 years            0.098947               0.088725   \n",
       "5     45-49 years            0.091128               0.105962   \n",
       "6     50-54 years            0.095398               0.122468   \n",
       "7     55-59 years            0.094119               0.132988   \n",
       "8  Above 60 years            0.088858               0.276695   \n",
       "\n",
       "   Share_high_school  Share_vocational_education  \\\n",
       "0           1.000000                    1.000000   \n",
       "1           0.267643                    0.079370   \n",
       "2           0.111051                    0.082399   \n",
       "3           0.084563                    0.087207   \n",
       "4           0.093865                    0.109459   \n",
       "5           0.106788                    0.125499   \n",
       "6           0.116662                    0.148777   \n",
       "7           0.099750                    0.138740   \n",
       "8           0.119678                    0.228549   \n",
       "\n",
       "   Share_short_higher_education  Share_medium_higher_education  \\\n",
       "0                      1.000000                       1.000000   \n",
       "1                      0.115966                       0.121420   \n",
       "2                      0.105066                       0.120249   \n",
       "3                      0.106599                       0.106876   \n",
       "4                      0.132979                       0.116260   \n",
       "5                      0.145013                       0.118222   \n",
       "6                      0.132592                       0.115464   \n",
       "7                      0.108670                       0.105707   \n",
       "8                      0.153115                       0.195800   \n",
       "\n",
       "   Share_bachelor_degree  Share_long_higher_education  Share_phd  \\\n",
       "0               1.000000                     1.000000   1.000000   \n",
       "1               0.418190                     0.151930   0.020297   \n",
       "2               0.130537                     0.181175   0.143270   \n",
       "3               0.094023                     0.146375   0.203577   \n",
       "4               0.102493                     0.132903   0.183519   \n",
       "5               0.088651                     0.114143   0.154769   \n",
       "6               0.063706                     0.092490   0.117780   \n",
       "7               0.047271                     0.069521   0.089322   \n",
       "8               0.055129                     0.111464   0.087467   \n",
       "\n",
       "   Share_missing_education  \n",
       "0                 1.000000  \n",
       "1                 0.056138  \n",
       "2                 0.082981  \n",
       "3                 0.084972  \n",
       "4                 0.103940  \n",
       "5                 0.110678  \n",
       "6                 0.128749  \n",
       "7                 0.167582  \n",
       "8                 0.264959  "
      ]
     },
     "execution_count": 8,
     "metadata": {
     },
     "output_type": "execute_result"
    }
   ],
   "source": [
    "merge"
   ]
  },
  {
   "cell_type": "markdown",
   "metadata": {
    "collapsed": false
   },
   "source": [
    "To analyze the data set and calculate minimum and maximum values of each education level, we transpose the merged data set."
   ]
  },
  {
   "cell_type": "code",
   "execution_count": 9,
   "metadata": {
    "collapsed": false
   },
   "outputs": [
   ],
   "source": [
    "# Re-indexing and transposing merged data set\n",
    "merge.set_index('Age', inplace = True)\n",
    "merge_transpose = merge.transpose()"
   ]
  },
  {
   "cell_type": "markdown",
   "metadata": {
    "collapsed": false
   },
   "source": [
    "The transposed data set looks like the following:"
   ]
  },
  {
   "cell_type": "code",
   "execution_count": 10,
   "metadata": {
    "collapsed": false,
    "scrolled": true
   },
   "outputs": [
    {
     "data": {
      "text/html": [
       "<div>\n",
       "<style scoped>\n",
       "    .dataframe tbody tr th:only-of-type {\n",
       "        vertical-align: middle;\n",
       "    }\n",
       "\n",
       "    .dataframe tbody tr th {\n",
       "        vertical-align: top;\n",
       "    }\n",
       "\n",
       "    .dataframe thead th {\n",
       "        text-align: right;\n",
       "    }\n",
       "</style>\n",
       "<table border=\"1\" class=\"dataframe\">\n",
       "  <thead>\n",
       "    <tr style=\"text-align: right;\">\n",
       "      <th>Age</th>\n",
       "      <th>Total</th>\n",
       "      <th>25-29 years</th>\n",
       "      <th>30-34 years</th>\n",
       "      <th>35-39 years</th>\n",
       "      <th>40-44 years</th>\n",
       "      <th>45-49 years</th>\n",
       "      <th>50-54 years</th>\n",
       "      <th>55-59 years</th>\n",
       "      <th>Above 60 years</th>\n",
       "    </tr>\n",
       "  </thead>\n",
       "  <tbody>\n",
       "    <tr>\n",
       "      <th>Share_total_unempl</th>\n",
       "      <td>1.0</td>\n",
       "      <td>0.196663</td>\n",
       "      <td>0.161221</td>\n",
       "      <td>0.114499</td>\n",
       "      <td>0.098947</td>\n",
       "      <td>0.091128</td>\n",
       "      <td>0.095398</td>\n",
       "      <td>0.094119</td>\n",
       "      <td>0.088858</td>\n",
       "    </tr>\n",
       "    <tr>\n",
       "      <th>Share_ primary_school</th>\n",
       "      <td>1.0</td>\n",
       "      <td>0.102297</td>\n",
       "      <td>0.088992</td>\n",
       "      <td>0.081872</td>\n",
       "      <td>0.088725</td>\n",
       "      <td>0.105962</td>\n",
       "      <td>0.122468</td>\n",
       "      <td>0.132988</td>\n",
       "      <td>0.276695</td>\n",
       "    </tr>\n",
       "    <tr>\n",
       "      <th>Share_high_school</th>\n",
       "      <td>1.0</td>\n",
       "      <td>0.267643</td>\n",
       "      <td>0.111051</td>\n",
       "      <td>0.084563</td>\n",
       "      <td>0.093865</td>\n",
       "      <td>0.106788</td>\n",
       "      <td>0.116662</td>\n",
       "      <td>0.099750</td>\n",
       "      <td>0.119678</td>\n",
       "    </tr>\n",
       "    <tr>\n",
       "      <th>Share_vocational_education</th>\n",
       "      <td>1.0</td>\n",
       "      <td>0.079370</td>\n",
       "      <td>0.082399</td>\n",
       "      <td>0.087207</td>\n",
       "      <td>0.109459</td>\n",
       "      <td>0.125499</td>\n",
       "      <td>0.148777</td>\n",
       "      <td>0.138740</td>\n",
       "      <td>0.228549</td>\n",
       "    </tr>\n",
       "    <tr>\n",
       "      <th>Share_short_higher_education</th>\n",
       "      <td>1.0</td>\n",
       "      <td>0.115966</td>\n",
       "      <td>0.105066</td>\n",
       "      <td>0.106599</td>\n",
       "      <td>0.132979</td>\n",
       "      <td>0.145013</td>\n",
       "      <td>0.132592</td>\n",
       "      <td>0.108670</td>\n",
       "      <td>0.153115</td>\n",
       "    </tr>\n",
       "    <tr>\n",
       "      <th>Share_medium_higher_education</th>\n",
       "      <td>1.0</td>\n",
       "      <td>0.121420</td>\n",
       "      <td>0.120249</td>\n",
       "      <td>0.106876</td>\n",
       "      <td>0.116260</td>\n",
       "      <td>0.118222</td>\n",
       "      <td>0.115464</td>\n",
       "      <td>0.105707</td>\n",
       "      <td>0.195800</td>\n",
       "    </tr>\n",
       "    <tr>\n",
       "      <th>Share_bachelor_degree</th>\n",
       "      <td>1.0</td>\n",
       "      <td>0.418190</td>\n",
       "      <td>0.130537</td>\n",
       "      <td>0.094023</td>\n",
       "      <td>0.102493</td>\n",
       "      <td>0.088651</td>\n",
       "      <td>0.063706</td>\n",
       "      <td>0.047271</td>\n",
       "      <td>0.055129</td>\n",
       "    </tr>\n",
       "    <tr>\n",
       "      <th>Share_long_higher_education</th>\n",
       "      <td>1.0</td>\n",
       "      <td>0.151930</td>\n",
       "      <td>0.181175</td>\n",
       "      <td>0.146375</td>\n",
       "      <td>0.132903</td>\n",
       "      <td>0.114143</td>\n",
       "      <td>0.092490</td>\n",
       "      <td>0.069521</td>\n",
       "      <td>0.111464</td>\n",
       "    </tr>\n",
       "    <tr>\n",
       "      <th>Share_phd</th>\n",
       "      <td>1.0</td>\n",
       "      <td>0.020297</td>\n",
       "      <td>0.143270</td>\n",
       "      <td>0.203577</td>\n",
       "      <td>0.183519</td>\n",
       "      <td>0.154769</td>\n",
       "      <td>0.117780</td>\n",
       "      <td>0.089322</td>\n",
       "      <td>0.087467</td>\n",
       "    </tr>\n",
       "    <tr>\n",
       "      <th>Share_missing_education</th>\n",
       "      <td>1.0</td>\n",
       "      <td>0.056138</td>\n",
       "      <td>0.082981</td>\n",
       "      <td>0.084972</td>\n",
       "      <td>0.103940</td>\n",
       "      <td>0.110678</td>\n",
       "      <td>0.128749</td>\n",
       "      <td>0.167582</td>\n",
       "      <td>0.264959</td>\n",
       "    </tr>\n",
       "  </tbody>\n",
       "</table>\n",
       "</div>"
      ],
      "text/plain": [
       "Age                            Total  25-29 years  30-34 years  35-39 years  \\\n",
       "Share_total_unempl               1.0     0.196663     0.161221     0.114499   \n",
       "Share_ primary_school            1.0     0.102297     0.088992     0.081872   \n",
       "Share_high_school                1.0     0.267643     0.111051     0.084563   \n",
       "Share_vocational_education       1.0     0.079370     0.082399     0.087207   \n",
       "Share_short_higher_education     1.0     0.115966     0.105066     0.106599   \n",
       "Share_medium_higher_education    1.0     0.121420     0.120249     0.106876   \n",
       "Share_bachelor_degree            1.0     0.418190     0.130537     0.094023   \n",
       "Share_long_higher_education      1.0     0.151930     0.181175     0.146375   \n",
       "Share_phd                        1.0     0.020297     0.143270     0.203577   \n",
       "Share_missing_education          1.0     0.056138     0.082981     0.084972   \n",
       "\n",
       "Age                            40-44 years  45-49 years  50-54 years  \\\n",
       "Share_total_unempl                0.098947     0.091128     0.095398   \n",
       "Share_ primary_school             0.088725     0.105962     0.122468   \n",
       "Share_high_school                 0.093865     0.106788     0.116662   \n",
       "Share_vocational_education        0.109459     0.125499     0.148777   \n",
       "Share_short_higher_education      0.132979     0.145013     0.132592   \n",
       "Share_medium_higher_education     0.116260     0.118222     0.115464   \n",
       "Share_bachelor_degree             0.102493     0.088651     0.063706   \n",
       "Share_long_higher_education       0.132903     0.114143     0.092490   \n",
       "Share_phd                         0.183519     0.154769     0.117780   \n",
       "Share_missing_education           0.103940     0.110678     0.128749   \n",
       "\n",
       "Age                            55-59 years  Above 60 years  \n",
       "Share_total_unempl                0.094119        0.088858  \n",
       "Share_ primary_school             0.132988        0.276695  \n",
       "Share_high_school                 0.099750        0.119678  \n",
       "Share_vocational_education        0.138740        0.228549  \n",
       "Share_short_higher_education      0.108670        0.153115  \n",
       "Share_medium_higher_education     0.105707        0.195800  \n",
       "Share_bachelor_degree             0.047271        0.055129  \n",
       "Share_long_higher_education       0.069521        0.111464  \n",
       "Share_phd                         0.089322        0.087467  \n",
       "Share_missing_education           0.167582        0.264959  "
      ]
     },
     "execution_count": 10,
     "metadata": {
     },
     "output_type": "execute_result"
    }
   ],
   "source": [
    "merge_transpose"
   ]
  },
  {
   "cell_type": "markdown",
   "metadata": {
    "collapsed": false
   },
   "source": [
    "Finally, we drop the 'Total' colum and re-index the data."
   ]
  },
  {
   "cell_type": "markdown",
   "metadata": {
    "collapsed": false
   },
   "source": [
    "**Code:**"
   ]
  },
  {
   "cell_type": "code",
   "execution_count": 11,
   "metadata": {
    "collapsed": false
   },
   "outputs": [
   ],
   "source": [
    "merge_transpose.drop(['Total'], axis = 1, inplace = True)\n",
    "merge_new = merge_transpose.reset_index()\n",
    "merge_new.rename(columns = {'index': 'Education_level'}, inplace = True)"
   ]
  },
  {
   "cell_type": "markdown",
   "metadata": {
    "collapsed": false
   },
   "source": [
    "# Analysis"
   ]
  },
  {
   "cell_type": "markdown",
   "metadata": {
    "collapsed": false
   },
   "source": [
    "## Descriptive statistics"
   ]
  },
  {
   "cell_type": "markdown",
   "metadata": {
    "collapsed": false
   },
   "source": [
    "The merged data set contains of 10 variables and 9 observations. The observations are age groups in intervals of five years starting from 25-29 years to above 60 years. The variables are shares of educational level and share of unemployment across the age groups.\n",
    "\n",
    "The group where the fewest people are unemployed is the group above 60 years old with a share of 8.8 percent of the total number of unemployed. In general the share is decreasing with age where the age group from 25 to 29 years old has the highest share of unemployment of 19.6 percent.\n",
    "\n",
    "The group with the lowest share of primary school educated is 35-39 years olds whereas the highest share is between the above 60 years olds with a share of 27.7 percent. Thus, the dispersion of primary school educated is quite large. That also counts for vocational education and phd. It is especially people above 35 that have a phd which can be explained by the fact that it takes several years to finish that. The share among the group above 60 years is low which indicates that people tend to get higher educated since the generation of above 60 year olds studied. The dispersions are smaller for short and medium higher education levels. The largest shares of high school and bachelor degree educated are within the group of 25 to 29 years olds which can be explained by the fact, that people often continue there studies after these eduacations and therefore have not finished their studies at the age of 25 to 29 year old.\n"
   ]
  },
  {
   "cell_type": "markdown",
   "metadata": {
    "collapsed": false
   },
   "source": [
    "**Code:**"
   ]
  },
  {
   "cell_type": "code",
   "execution_count": 12,
   "metadata": {
    "collapsed": false,
    "scrolled": true
   },
   "outputs": [
   ],
   "source": [
    "merge_transpose['min'] = merge_transpose.iloc[:, 0:9].min(axis = 1)\n",
    "merge_transpose['max'] = merge_transpose.iloc[:, 0:9].max(axis = 1)"
   ]
  },
  {
   "cell_type": "code",
   "execution_count": 13,
   "metadata": {
    "collapsed": false,
    "scrolled": true
   },
   "outputs": [
    {
     "name": "stdout",
     "output_type": "stream",
     "text": [
      "Age                                 min       max\n",
      "Share_total_unempl             0.088858  0.196663\n",
      "Share_ primary_school          0.081872  0.276695\n",
      "Share_high_school              0.084563  0.267643\n",
      "Share_vocational_education     0.079370  0.228549\n",
      "Share_short_higher_education   0.105066  0.153115\n",
      "Share_medium_higher_education  0.105707  0.195800\n",
      "Share_bachelor_degree          0.047271  0.418190\n",
      "Share_long_higher_education    0.069521  0.181175\n",
      "Share_phd                      0.020297  0.203577\n",
      "Share_missing_education        0.056138  0.264959\n"
     ]
    }
   ],
   "source": [
    "print(merge_transpose.iloc[: ,8:10])"
   ]
  },
  {
   "cell_type": "markdown",
   "metadata": {
    "collapsed": false
   },
   "source": [
    "## Interactive figure"
   ]
  },
  {
   "cell_type": "markdown",
   "metadata": {
    "collapsed": false
   },
   "source": [
    "Below an interactive figure is shown, that plots the unemployment share and education shares across the age groups."
   ]
  },
  {
   "cell_type": "markdown",
   "metadata": {
    "collapsed": false
   },
   "source": [
    "In order to generate the interactive figure, we need to change the data format from wide to long.\n",
    "\n",
    "First, we rename the education levels, so they are easier to read from the figure. Next, we transform the data set to long, using the melt function. \n",
    "Finally, we generate the interactive figure."
   ]
  },
  {
   "cell_type": "markdown",
   "metadata": {
    "collapsed": false
   },
   "source": [
    "**Code:**"
   ]
  },
  {
   "cell_type": "code",
   "execution_count": 25,
   "metadata": {
    "collapsed": false
   },
   "outputs": [
    {
     "data": {
      "application/vnd.jupyter.widget-view+json": {
       "model_id": "acacf9208d44413baf45216ec6c0327a",
       "version_major": 2,
       "version_minor": 0
      },
      "text/plain": [
       "interactive(children=(Dropdown(description='Unemployment or education level', options=('Unemployment', 'Primar…"
      ]
     },
     "execution_count": 25,
     "metadata": {
     },
     "output_type": "execute_result"
    }
   ],
   "source": [
    "# Renaming the education levels\n",
    "merge_new.insert(0, \"Education_level_new\", ['Unemployment','Primary school', 'High school', 'Vocational education', 'Short higher education', 'Medium higher education', 'Bachelor degree', 'Long higher education', 'Phd', 'Missing'])\n",
    "merge_new.drop(['Education_level'], axis = 1, inplace = True)\n",
    "merge_new.rename(columns = {'Education_level_new':'Education_level'}, inplace = True)\n",
    "\n",
    "# Tranforming the table from wide to long format\n",
    "merge_long = pd.melt(merge_new, id_vars = ['Education_level'], var_name = 'Age', value_name = 'Shares')\n",
    "\n",
    "# Plotting the interactive figure\n",
    "def plot_fig(merge_long, Education_level): \n",
    "    I = merge_long['Education_level'] == Education_level\n",
    "    ax = merge_long.loc[I,:].plot(x = 'Age', y = 'Shares', legend = 'Share', color = 'C0', kind = 'bar', fontsize = 12, title = 'Figure 1: Interactive figure')\n",
    "\n",
    "widgets.interact(plot_fig, \n",
    "    merge_long = widgets.fixed(merge_long),\n",
    "    Education_level = widgets.Dropdown(description = 'Unemployment or education level', options = merge_long.Education_level.unique())\n",
    ");"
   ]
  },
  {
   "cell_type": "code",
   "execution_count": 0,
   "metadata": {
    "collapsed": false
   },
   "outputs": [
   ],
   "source": [
   ]
  },
  {
   "cell_type": "markdown",
   "metadata": {
    "collapsed": false
   },
   "source": [
    "The **interactive figure** above shows the same tendencies as described in the descriptive statistics, where the largest share of vocational and short educations are among the older generation, and the largest share of longer educations are among the younger generation. \n",
    "\n",
    "\n",
    "Next, we generate a figure that shows the unemployment shares for each age group and selected educational shares."
   ]
  },
  {
   "cell_type": "markdown",
   "metadata": {
    "collapsed": false
   },
   "source": [
    "**Code:**"
   ]
  },
  {
   "cell_type": "code",
   "execution_count": 19,
   "metadata": {
    "collapsed": false
   },
   "outputs": [
    {
     "data": {
      "image/png": "[encoded data removed]",
      "text/plain": [
       "<Figure size 936x648 with 1 Axes>"
      ]
     },
     "execution_count": 19,
     "metadata": {
      "image/png": {
       "height": 553,
       "width": 785
      },
      "needs_background": "light"
     },
     "output_type": "execute_result"
    },
    {
     "data": {
      "text/plain": [
       "<Figure size 864x504 with 0 Axes>"
      ]
     },
     "execution_count": 19,
     "metadata": {
     },
     "output_type": "execute_result"
    }
   ],
   "source": [
    "# Generating a list of age categories to the x axis\n",
    "age_list = ['25-29 years', '30-34 years', '35-39 years', '40-44 years', '45-49 years', '50-54 years', '55-59 years', 'Above 60 years']\n",
    "\n",
    "# Deleting the total for each education level and unemployment level\n",
    "del col_1[8]\n",
    "del col_2[8]\n",
    "del col_3[8]\n",
    "del col_7[8]\n",
    "del col[0]\n",
    "\n",
    "# Generating the figure based on the lists of shares of each education level and share of unemployment distributed on age groups\n",
    "fig = plt.figure(figsize = (13,9)) # define new figure object\n",
    "ax = fig.add_subplot(111) # add subplot\n",
    "ax.plot(age_list , col_1, lw = 3, color = 'C3', label = 'Primary school')\n",
    "ax.plot(age_list, col_3, lw = 3, color = 'C2', label = 'Vocational education')\n",
    "ax.plot(age_list, col_7, lw = 3, color = 'C9', label = 'Long higher education')\n",
    "ax.plot(age_list, col_2, lw = 3, color = 'C6', label = 'High school')\n",
    "plt.bar(age_list, col, lw = 1, color = 'C0', label = 'Unemployment')\n",
    "\n",
    "ax.grid(True)\n",
    "   \n",
    "ax.set_xlabel('Age', fontsize = 12)\n",
    "ax.set_ylabel('Shares', fontsize = 12)\n",
    "ax.legend(loc = 'best')\n",
    "ax.set_title('Figure 2: Education level and unemployment distributed on age', fontsize = 14)\n",
    "  \n",
    "# Remove borders\n",
    "ax.spines['top'].set_visible(False)\n",
    "ax.spines['right'].set_visible(False)\n",
    "ax.spines['left'].set_visible(False)\n",
    "ax.spines['bottom'].set_visible(False)\n",
    "plt.show()"
   ]
  },
  {
   "cell_type": "markdown",
   "metadata": {
    "collapsed": false
   },
   "source": [
    "The figure above shows a close connection between the shares of primary school educated and vocational educated. The share of long higher educated are highest in the bottom of the age distribution which is also the groups that has the highest unemployment share, which is surprising. However, that can be explained by the fact, that this group also has the highest share of high school educated, and people with a lower degree of education might experience more challenges finding a job.\n",
    "\n",
    "The two figures above shows, that the oldest group has the lowest share of unemployment. This might be due to the fact that the share of unemployment is computed using the total work force, which is people that are able to work in the working age (15-64 years). When the older workers leave their jobs, they might choose to retire, meaning that they are not seen as unemployed.\\\n",
    "Meanwhile, the younger groups have the highest shares of unemployment, which can be caused by graduates being unemployed while seaching for their first full-time job.\\\n",
    "Another fact to take into account is that we have used full-time unemployment. This means that the person must be unemployed for an entire year, in order to count as a full-time unemployed. Therefore, it might be possible that the older groups are more often unemployed, but are however unemployed for a shorter period of time compared to the younger groups. This can be explained by older groups having larger responsibility and thus incentive to take a new job faster.\n",
    "\n",
    "The share of people having a long higher education is largest for the younger groups, while the share of people having primary school or vocational education as their highest completed education is largest for the older groups. The reason for this might be that there has been a switch in the type of education needed for the supply of jobs today compared to earlier."
   ]
  },
  {
   "cell_type": "markdown",
   "metadata": {
    "collapsed": false
   },
   "source": [
    "# Conclusion"
   ]
  },
  {
   "cell_type": "markdown",
   "metadata": {
    "collapsed": false
   },
   "source": [
    "This assignment provides a description and analysis of the connection between unemployment and education levels. We find that the unemployment share is decreasing with age, which can be explained by the fact that older workers retire when they get unemployed, while young people often are unemployed after graduating.\\\n",
    "The shares of high school educated and bachelor degrees are highest among the youngest age groups whereas the shares of primary school and vocational educated are highest among the older workers. This can be caused by a tendency to take a higher education in younger generations because the largest part of the jobs are located in the tertiary sector compared to earlier, where there were more jobs in the primary sector. This tendency arises from the job market being more automated which decreases the demand for unskilled labor."
   ]
  }
 ],
 "metadata": {
  "kernelspec": {
   "display_name": "Python 3 (system-wide)",
   "language": "python",
   "metadata": {
    "cocalc": {
     "description": "Python 3 programming language",
     "priority": 100,
     "url": "https://www.python.org/"
    }
   },
   "name": "python3",
   "resource_dir": "/ext/jupyter/kernels/python3"
  },
  "language_info": {
   "codemirror_mode": {
    "name": "ipython",
    "version": 3
   },
   "file_extension": ".py",
   "mimetype": "text/x-python",
   "name": "python",
   "nbconvert_exporter": "python",
   "pygments_lexer": "ipython3",
   "version": "3.8.5"
  },
  "toc-autonumbering": true
 },
 "nbformat": 4,
 "nbformat_minor": 4
}