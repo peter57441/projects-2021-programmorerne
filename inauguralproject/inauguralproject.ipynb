{
 "cells": [
  {
   "cell_type": "markdown",
   "metadata": {},
   "source": [
    "# Inaugural Project"
   ]
  },
  {
   "cell_type": "code",
   "execution_count": null,
   "metadata": {
    "collapsed": false,
    "jupyter": {
     "outputs_hidden": false
    }
   },
   "outputs": [],
   "source": [
    "import numpy as np\n",
    "from scipy import optimize\n",
    "\n",
    "# autoreload modules when code is run\n",
    "%load_ext autoreload\n",
    "%autoreload 2\n",
    "\n",
    "# local modules\n",
    "import inauguralproject\n",
    "\n",
    "# Importing matplotlib to generate figures \n",
    "import matplotlib.pyplot as plt"
   ]
  },
  {
   "cell_type": "markdown",
   "metadata": {},
   "source": [
    "# Question 1"
   ]
  },
  {
   "cell_type": "markdown",
   "metadata": {},
   "source": [
    "We begin with the following equations:"
   ]
  },
  {
   "cell_type": "markdown",
   "metadata": {},
   "source": [
    "$$\n",
    "\\begin{align}\n",
    "c^*,h^* &= \\arg \\underset{{c,h}}{\\max}{c^{1-\\phi}h^{\\phi}} \\tag{1}\\\\\n",
    "& s.t. \\notag \\\\\n",
    "\\tilde{p}_h &= p_h \\varepsilon \\tag{2} \\\\\n",
    "m &= \\tau(p_h,\\tilde{p}_h)+c \\tag{3}\\\\\n",
    "\\tau(p_h,\\tilde{p}_h) &= rp_h+\\tau ^g \\tilde{p}_h + \\tau ^p \\max\\{\\tilde{p}_h-\\bar{p},0\\} \\tag{4}\n",
    "\\end{align}\n",
    "$$"
   ]
  },
  {
   "cell_type": "markdown",
   "metadata": {},
   "source": [
    "First, we insert $p_h=h$ into (2):"
   ]
  },
  {
   "cell_type": "markdown",
   "metadata": {},
   "source": [
    "$$\n",
    "\\begin{aligned}\n",
    "\\tilde{p}_h&=p_h \\varepsilon = h\\varepsilon \n",
    "\\end{aligned}\n",
    "$$"
   ]
  },
  {
   "cell_type": "markdown",
   "metadata": {},
   "source": [
    "Then we re-write equation (4), which is the expression for user costs:"
   ]
  },
  {
   "cell_type": "markdown",
   "metadata": {},
   "source": [
    "$$\n",
    "\\begin{aligned}\n",
    "\\tau(p_h,\\tilde{p}_h)& = user\\_costs(h) = rh + \\tau ^g h\\varepsilon + \\tau^p \\max{(h\\varepsilon-\\bar{p},0)}\n",
    "\\end{aligned}\n",
    "$$"
   ]
  },
  {
   "cell_type": "markdown",
   "metadata": {},
   "source": [
    "Finally, we define c as a function of m and user costs, which is dependent of h:"
   ]
  },
  {
   "cell_type": "markdown",
   "metadata": {},
   "source": [
    "$$\n",
    "\\begin{aligned}\n",
    "m&=\\tau(h,\\tilde{p}_h)+c \\Leftrightarrow \\\\\n",
    "c&=m-user\\_costs(h)=m-rh \\tau ^g h\\varepsilon - \\tau^p \\max{(h\\varepsilon-\\bar{p},0)}\n",
    "\\end{aligned}\n",
    "$$"
   ]
  },
  {
   "cell_type": "markdown",
   "metadata": {},
   "source": [
    "We can now optimize c wrt\\. h\\. Solving the model numerically we find the following optimal values:\n",
    "$$\n",
    "\\begin{aligned}\n",
    "h^*=4.1667 \\\\\n",
    "c^*=0.3500 \\\\\n",
    "u(c^*,h^*)=0.7378\n",
    "\\end{aligned}\n",
    "$$"
   ]
  },
  {
   "cell_type": "markdown",
   "metadata": {},
   "source": [
    "**Code:**"
   ]
  },
  {
   "cell_type": "code",
   "execution_count": null,
   "metadata": {
    "jupyter": {
     "source_hidden": true
    }
   },
   "outputs": [],
   "source": [
    "# Creating dictionary for parameters:\n",
    "parameters = {\"phi\":0.3, \"epsilon\":0.5, \"r\":0.03, \"thau_g\":0.012, \"thau_p\":0.004, \"p_bar\":3}\n",
    "m = 0.5\n",
    "\n",
    "# Modelling equations: The first equation is c as a function of all other parameters, using equation (2), (3), (4) and that p_h = h\n",
    "def user_costs(h, parameters):\n",
    "    \"\"\" Calculates the user costs of housing.\n",
    "\n",
    "    Args:\n",
    "\n",
    "    h (float): housing\n",
    "    parameters (dict) : model parameters.\n",
    "\n",
    "    Returns:\n",
    "\n",
    "    (float): costs of housing\n",
    "    \"\"\"\n",
    "    return parameters['r'] * h + parameters['thau_g'] * h * parameters['epsilon'] + parameters['thau_p'] * max(h * parameters['epsilon'] - parameters['p_bar'], 0)\n",
    "\n",
    "def find_utility(c, h, parameters):\n",
    "    \"\"\" Calculates utility of chosen (consumption, housing) bundle.\n",
    "\n",
    "    Args:\n",
    "\n",
    "    c (float): consumption\n",
    "    h (float): housing \n",
    "    parameters (dict): model parameters.\n",
    "\n",
    "    Returns:\n",
    "\n",
    "    (float): utility of bundle\n",
    "    \"\"\"\n",
    "    return c**(1-parameters['phi']) * h**parameters['phi']\n",
    "\n",
    "def choose_c(h, m, parameters):\n",
    "    \"\"\" Chooses the optimal consumption based on the housing costs and cash-on-hand.\n",
    "\n",
    "    Args:\n",
    "\n",
    "    h (float): housing\n",
    "    m (float): cash-on-hand\n",
    "    parameters (dict): model parameters.\n",
    "\n",
    "    Returns:\n",
    "    \n",
    "    (float): the optimal consumption\n",
    "    \"\"\"\n",
    "    return m - user_costs(h, parameters)\n",
    "\n",
    "def obj(h, m, parameters):\n",
    "    \"\"\" Objective function which creates the function that is optimized.\n",
    "\n",
    "    Args:\n",
    "\n",
    "    h (float): housing\n",
    "    m (float): cash-on-hand\n",
    "    parameters (dict): model parameters.\n",
    "\n",
    "    Returns:\n",
    "    \n",
    "    (float): The optimization function. \n",
    "    \"\"\"\n",
    "    c = choose_c(h, m, parameters)\n",
    "    return -find_utility(c, h, parameters)\n",
    "\n",
    "\n",
    "# Maximizing:\n",
    "res = optimize.minimize_scalar(obj, args=(m, parameters))\n",
    "\n",
    "# Unpacking results\n",
    "h_best_scipy = res.x\n",
    "\n",
    "# Printing the results\n",
    "print('Using numerical solver the optimal values are:')\n",
    "print(f'h = {h_best_scipy:.4f}')\n",
    "print(f'c = {choose_c(h_best_scipy, m, parameters):.4f}')\n",
    "print(f'u = {find_utility(choose_c(h_best_scipy, m, parameters),h_best_scipy, parameters):.4f}')\n"
   ]
  },
  {
   "cell_type": "markdown",
   "metadata": {},
   "source": [
    "# Question 2"
   ]
  },
  {
   "attachments": {
    "figure1.png": {
     "image/png": "[encoded data removed]"
    }
   },
   "cell_type": "markdown",
   "metadata": {},
   "source": [
    "Generating a loop for values of m in range 0.4 to 2.5 with corresponding values for $h^*$ and $c^*$ by solving the maximization problem. This results in the figure below:\n",
    "![figure1.png](attachment:figure1.png)\n",
    "\n",
    "Both consumption of housing and other goods increase when the consumer gets more cash-on-hand. However, the relative share of consumption of other goods decreases when the cash-on-hand increase implying that the consumer uses a larger share on housing when she gets more cash-on-hand. "
   ]
  },
  {
   "cell_type": "markdown",
   "metadata": {},
   "source": [
    "**Code:**"
   ]
  },
  {
   "cell_type": "code",
   "execution_count": null,
   "metadata": {
    "jupyter": {
     "source_hidden": true
    }
   },
   "outputs": [],
   "source": [
    "# Generating empty lists for h, m and c values:\n",
    "h_list = []\n",
    "c_list = []\n",
    "m_list = []\n",
    "\n",
    "m = [0.4, 0.5, 0.6, 0.7, 0.8, 0.9, 1.0, 1.1, 1.2, 1.3, 1.4, 1.5, 1.6, 1.7, 1.8, 1.9, 2.0, 2.1, 2.2, 2.3, 2.4, 2.5]\n",
    "# Generating data points for figure by solving the optimization problem for several m values:\n",
    "for k in m:\n",
    "    res = optimize.minimize_scalar(obj, args=(k, parameters))\n",
    "\n",
    "# Unpacking results\n",
    "    h_best_scipy = res.x\n",
    "    h_list.append(h_best_scipy)\n",
    "    c_list.append(choose_c(h_best_scipy, k, parameters))\n",
    "    m_list.append(k) \n",
    "    \n",
    "# Printing the data points\n",
    "print(\"h=\", h_list)\n",
    "print(\"c=\", c_list)\n",
    "print(\"m=\", m_list)\n",
    "\n",
    "# Generating the figure:\n",
    "fig = plt.figure(figsize=(13,9)) # define new figure object\n",
    "ax = fig.add_subplot(111) # add subplot\n",
    "ax.plot(m_list, h_list, lw=2, color='blue', label='$h^*(m)$')\n",
    "ax.plot(m_list, c_list, lw=2, color='red', label='$c^*(m)$')\n",
    "plt.xticks([0.4, 0.5, 0.6, 0.7, 0.8, 0.9, 1.0, 1.1, 1.2, 1.3, 1.4, 1.5, 1.6, 1.7, 1.8, 1.9, 2.0, 2.1, 2.2, 2.3, 2.4, 2.5]) \n",
    "ax.grid(True)\n",
    "   \n",
    "ax.set_xlabel('$m$', fontsize=12)\n",
    "ax.set_ylabel('$h^*,c^*$', fontsize=12)\n",
    "ax.legend(loc='best')\n",
    "ax.set_title('Figure 1: $c^*$ and $h^*$ as functions of $m$', fontsize=14)\n",
    "  \n",
    "# Remove borders\n",
    "ax.spines['top'].set_visible(False)\n",
    "ax.spines['right'].set_visible(False)\n",
    "ax.spines['left'].set_visible(False)\n",
    "ax.spines['bottom'].set_visible(False)\n",
    "plt.show()\n",
    "fig.savefig('Figure1.png')\n",
    "plt.clf()"
   ]
  },
  {
   "cell_type": "markdown",
   "metadata": {},
   "source": [
    "# Question 3"
   ]
  },
  {
   "attachments": {
    "figure2.png": {
     "image/png": "[encoded data removed]"
    },
    "figure3.png": {
     "image/png": "[encoded data removed]"
    }
   },
   "cell_type": "markdown",
   "metadata": {},
   "source": [
    "As the households differ by their cash-on-hand, we start by creating a random distribution of the cash-on-hand, $m$. Then, we solve the maximization problem from question 1 for each random drawn of the households cash-on-hold. \n",
    "\n",
    "To calculate the total tax revenue, $T$, we solve the maximization problem $\\max\\{\\tilde{p}^*_{h,i}-\\bar{p},0\\}$ for each consumer. Finally, we find that the average tax burden per household is 36,327 DKK. \n",
    "\n",
    "![figure2.png](attachment:figure2.png)\n",
    "![figure3.png](attachment:figure3.png)\n",
    "\n",
    "\n",
    "We find that the distribution of $m$ is centered around 0.5 whereas the distribution of h is centered around 5. That implicates that the households are able to borrow money to buy more expensive houses than their cash-on-hand allows. There are no requirements to down-payments why the households can use their cash-on-hand to finance the loan of the house. "
   ]
  },
  {
   "cell_type": "markdown",
   "metadata": {},
   "source": [
    "**Code:**"
   ]
  },
  {
   "cell_type": "code",
   "execution_count": null,
   "metadata": {
    "jupyter": {
     "source_hidden": true
    },
    "scrolled": true
   },
   "outputs": [],
   "source": [
    "# Creating random distribution of m:\n",
    "N = 10000\n",
    "mu = -0.4\n",
    "sigma = 0.35\n",
    "seed = np.random.seed(1)\n",
    "m_random = np.random.lognormal(mu, sigma, N)\n",
    "\n",
    "#Generating empty lists for h^*:\n",
    "h_star_list = []\n",
    "\n",
    "# Solving maximization problem for each random drawn m:\n",
    "for j in m_random:    \n",
    "    res = optimize.minimize_scalar(obj, args=(j, parameters))\n",
    "    \n",
    "    #Creating lists with results from maximization\n",
    "    h_star_q3 = res.x\n",
    "    h_star_list.append(h_star_q3)\n"
   ]
  },
  {
   "cell_type": "code",
   "execution_count": null,
   "metadata": {
    "jupyter": {
     "source_hidden": true
    }
   },
   "outputs": [],
   "source": [
    "#Converting h_matrix to a numpy array:\n",
    "h_matrix = np.array(h_star_list)\n",
    "\n",
    "#Generating p_star and fisrt term of the equation for the tax revenue T:\n",
    "p_star = h_matrix * parameters[\"epsilon\"]\n",
    "first_term = parameters[\"thau_g\"] * p_star\n",
    "\n",
    "#Maximizing (p_star-p_bar,0) for each consumer: \n",
    "max_list = [] #Generating empty lists for max\n",
    "for l in p_star:\n",
    "    d = max(l - parameters[\"p_bar\"], 0)\n",
    "    max_list.append(d)\n",
    "    \n",
    "#Converting max_list to a numpy array and calculating second term:\n",
    "max_list_np = np.array(max_list)\n",
    "second_term = parameters[\"thau_p\"] * max_list_np\n",
    "\n",
    "\n",
    "# Calculating T by summing first and second term of the equation for the tax revenue T:\n",
    "su = first_term + second_term\n",
    "T = sum(su)\n",
    "\n",
    "# Calculating the average tax burden per household\n",
    "AverageT = T / N\n",
    "AverageT_DKK = AverageT * 1000000\n",
    "print(AverageT_DKK)"
   ]
  },
  {
   "cell_type": "code",
   "execution_count": null,
   "metadata": {
    "jupyter": {
     "source_hidden": true
    }
   },
   "outputs": [],
   "source": [
    "# Optional figures\n",
    "# Generating the distribution figure of m:\n",
    "fig = plt.figure() # define new figure object\n",
    "ax = fig.add_subplot(111) # add subplot\n",
    "plt.hist(m_random, bins=50, color='blue', lw=10, density=True, alpha=0.5, label=\"$m_i$\")\n",
    "ax.grid(True)\n",
    "   \n",
    "ax.set_xlabel('$m_i$', fontsize=12)\n",
    "ax.set_ylabel('Density', fontsize=12)\n",
    "ax.set_title('Figure 2: Distribution of $m_i$', fontsize=14)\n",
    "ax.legend(loc='best')\n",
    "\n",
    "  \n",
    "# Remove borders\n",
    "ax.spines['top'].set_visible(False)\n",
    "ax.spines['right'].set_visible(False)\n",
    "ax.spines['left'].set_visible(False)\n",
    "ax.spines['bottom'].set_visible(False)\n",
    "fig.savefig('Figure2.png')\n",
    "plt.show()\n",
    "plt.clf()\n",
    "\n",
    "# Generating the density figure of h:\n",
    "fig = plt.figure() # define new figure object\n",
    "ax = fig.add_subplot(111) # add subplot\n",
    "plt.hist(h_star_list, bins=50, color='red', lw=10, density=True, alpha=0.5, label=\"$h_i^*$\")\n",
    "ax.grid(True)\n",
    "   \n",
    "ax.set_xlabel('$h_i^*$',fontsize=12)\n",
    "ax.set_ylabel('Density',fontsize=12)\n",
    "ax.set_title('Figure 2: Distribution of $h_i^*$',fontsize=14)\n",
    "ax.legend(loc='best')\n",
    "plt.xticks([0, 5, 10, 15, 20, 25, 30, 35]) \n",
    "\n",
    "  \n",
    "# Remove borders\n",
    "ax.spines['top'].set_visible(False)\n",
    "ax.spines['right'].set_visible(False)\n",
    "ax.spines['left'].set_visible(False)\n",
    "ax.spines['bottom'].set_visible(False)\n",
    "fig.savefig('Figure3.png')\n",
    "plt.show()\n",
    "plt.clf()"
   ]
  },
  {
   "cell_type": "markdown",
   "metadata": {},
   "source": [
    "# Question 4"
   ]
  },
  {
   "cell_type": "markdown",
   "metadata": {},
   "source": [
    "We define a new set of parameters, $parameters\\_new$.\n",
    "\n",
    "Then we maximize the utility function with respect to $h$, the same way as in question 1. \n",
    "\n",
    "$\\tau ^p$ increases from 0.004 to 0.009, indicating that house owners who owns a house above 8 mill. DKK, are paying a higher additional tax. However, $\\bar{p}$ is increasing from 3 mill. DKK to 8 mill. DKK, so the tax base of the additional tax is lower. In addition to this, $\\tau ^g$ decreases from 0.012 to 0.010, the tax rate of the public assesment decreases. Thus, each house owner pays a lower tax of their house. These three effects implies that the average tax burden would decrease.\n",
    "\n",
    "However, $\\varepsilon$ increases, which means that the public assessments now are higher and closer to the market value. Thus, each house owner now faces a larger tax burden, all things equal.\n",
    "\n",
    "We find that the average tax burden now is 45,036 DKK, which indicates that the latter effect is larger than the first three effects, such that the final effect of the new parameters results in a larger avergae tax burden per household. "
   ]
  },
  {
   "cell_type": "markdown",
   "metadata": {},
   "source": [
    "**Code:**"
   ]
  },
  {
   "cell_type": "code",
   "execution_count": null,
   "metadata": {
    "jupyter": {
     "source_hidden": true
    }
   },
   "outputs": [],
   "source": [
    "# Creating new dictionary\n",
    "parameters_new = {\"phi\":0.3, \"epsilon\":0.8, \"r\":0.03, \"thau_g\":0.01, \"thau_p\":0.009, \"p_bar\":8}\n",
    "\n",
    "# Defining same functions with new parameters:\n",
    "def user_costs_q4(h, parameters_new):\n",
    "    \"\"\" Calculates the user costs of housing.\n",
    "\n",
    "    Args:\n",
    "\n",
    "    h (float): housing\n",
    "    parameters_new (dict) : model parameters.\n",
    "\n",
    "    Returns:\n",
    "\n",
    "    (float): costs of housing\n",
    "    \"\"\"\n",
    "    return parameters_new['r'] * h + parameters_new['thau_g'] * h * parameters_new['epsilon'] \\\n",
    "           + parameters_new['thau_p'] * max(h * parameters_new['epsilon'] - parameters_new['p_bar'], 0)\n",
    "\n",
    "def find_utility_q4(c, h, parameters_new):\n",
    "    \"\"\" Calculates utility of chosen (consumption, housing) bundle.\n",
    "\n",
    "    Args:\n",
    "\n",
    "    c (float): consumption\n",
    "    h (float): housing \n",
    "    parameters_new (dict): model parameters.\n",
    "\n",
    "    Returns:\n",
    "\n",
    "    (float): utility of bundle\n",
    "    \"\"\"\n",
    "    return c**(1 - parameters_new['phi']) * h**parameters_new['phi']\n",
    "\n",
    "def choose_c_q4(h, m, parameters_new):\n",
    "    \"\"\" Chooses the optimal consumption based on the housing costs and cash-on-hand.\n",
    "\n",
    "    Args:\n",
    "\n",
    "    h (float): housing\n",
    "    m (float): cash-on-hand\n",
    "    parameters_new (dict): model parameters.\n",
    "\n",
    "    Returns:\n",
    "    \n",
    "    (float): the optimal consumption\n",
    "    \"\"\"\n",
    "    return m - user_costs_q4(h, parameters_new)\n",
    "\n",
    "def obj_q4(h, m, parameters_new):\n",
    "    \"\"\" Objective function which creates the function that is optimized.\n",
    "\n",
    "    Args:\n",
    "\n",
    "    h (float): housing\n",
    "    m (float): cash-on-hand\n",
    "    parameters_new (dict): model parameters.\n",
    "\n",
    "    Returns:\n",
    "    \n",
    "    (float): The optimization function. \n",
    "    \"\"\"\n",
    "    c = choose_c(h, m, parameters_new)\n",
    "    return -find_utility_q4(c, h, parameters_new)\n",
    "\n",
    "# Creating new empty list for h_star:\n",
    "h_star_list_q4 = []\n",
    "\n",
    "# Solving maximization problem for each random drawn m:\n",
    "for n in m_random:    \n",
    "    res = optimize.minimize_scalar(obj_q4, args=(n, parameters_new))\n",
    "    \n",
    "    #Creating lists with results from maximization\n",
    "    h_star_q4 = res.x\n",
    "    h_star_list_q4.append(h_star_q4)\n",
    "\n",
    "# Converting h_matrix to a numpy array:\n",
    "h_matrix_q4 = np.array(h_star_list_q4)\n",
    "\n",
    "#Generating p_star and fisrt term of the equation for the tax revenue T:\n",
    "p_star_q4 = h_matrix_q4 * parameters_new[\"epsilon\"]\n",
    "first_term_q4 = parameters_new[\"thau_g\"] * p_star_q4\n",
    "\n",
    "#Maximizing (p_star-p_bar,0) for each consumer: \n",
    "max_list_q4 = [] #Generating empty lists for max\n",
    "\n",
    "for z in p_star_q4:\n",
    "    d_q4 = max(z - parameters_new[\"p_bar\"], 0)\n",
    "    max_list_q4.append(d_q4)\n",
    "    \n",
    "#Converting max_list to a numpy array and calculating second term:\n",
    "max_list_np_q4 = np.array(max_list_q4)\n",
    "second_term_q4 = parameters_new[\"thau_p\"] * max_list_np_q4\n",
    "\n",
    "# Calculating T by summing first and second term of the equation for the tax revenue T:\n",
    "su_q4 = first_term_q4 + second_term_q4\n",
    "T_q4 = sum(su_q4)\n",
    "\n",
    "# Calculating the average tax burden per household\n",
    "AverageT_q4 = T_q4 / N\n",
    "AverageT_DKK_q4 = AverageT_q4 * 1000000\n",
    "print(AverageT_DKK_q4)"
   ]
  },
  {
   "cell_type": "markdown",
   "metadata": {},
   "source": [
    "# Question 5"
   ]
  },
  {
   "cell_type": "markdown",
   "metadata": {},
   "source": [
    "The average tax burden per household must be 36,327 DKK, which means that the total tax burden T is 363,270,000 DKK. Inserting this into the equation of the average tax burden per household, gives us:\n",
    "\n",
    "$$\n",
    "\\begin{align}\n",
    "T &= \\sum_{i=1}^N \\tau ^g \\tilde{p}_{i,h}^*+\\tau^p \\max{(h\\varepsilon-\\bar{p},0)}= 363,270,000 \\Leftrightarrow \\\\\n",
    "\\tau^g &= \\frac{363,270,000-\\tau ^p \\sum_{i=1}^N \\max{(h\\varepsilon-\\bar{p},0)}}{\\sum_{i=1}^N \\tilde{p}_{i,h}^*} \\tag{5}\\\\\n",
    "&= \\frac{363,270,000/N-\\tau ^p \\sum_{i=1}^N \\max{(h\\varepsilon-\\bar{p},0)}/N}{\\sum_{i=1}^N \\tilde{p}_{i,h}^*/N}\\\\\n",
    "&=\\frac{36,327-\\tau ^p \\max{(h\\varepsilon-\\bar{p},0)}}{\\tilde{p}_{i,h}^*} \\\\\n",
    "&=\\frac{36,327-\\tau ^p \\max{(h\\varepsilon-\\bar{p},0)}}{h\\varepsilon}\n",
    "\\end{align}\n",
    "$$\n",
    "\n",
    "Thus, we can use this expression for $\\tau^g$ to define a new expression for user costs:\n",
    "$$\n",
    "\\begin{aligned}\n",
    "user\\_costs(h)&=rh + \\tau ^g h\\varepsilon + \\tau^p \\max{(h\\varepsilon-\\bar{p},0)} \\\\\n",
    "&= rh+\\frac{36,327-\\tau ^p \\max{(h\\varepsilon-\\bar{p},0)}}{h\\varepsilon}h\\varepsilon + \\tau^p \\max{(h\\varepsilon-\\bar{p},0)}  \\\\\n",
    "&=rh+36,327-\\tau^p \\max{(h\\varepsilon-\\bar{p},0)} + \\tau^p \\max{(h\\varepsilon-\\bar{p},0)} \\\\\n",
    "&= rh+36,327\n",
    "\\end{aligned}\n",
    "$$\n",
    "\n",
    "By optimizing these user costs, we find the new optimal $h_i^*$, and thus we find $\\tau^g$ by computing equation (5). The value of $\\tau^g$, which offsets the two opposite effects from the changed parameters is 0.0064 such that the average tax burden is still 36,327 DKK."
   ]
  },
  {
   "cell_type": "markdown",
   "metadata": {},
   "source": [
    "**Code:**"
   ]
  },
  {
   "cell_type": "code",
   "execution_count": null,
   "metadata": {
    "jupyter": {
     "source_hidden": true
    }
   },
   "outputs": [],
   "source": [
    "# Creating new dictionary\n",
    "parameters_q5 = {\"phi\":0.3, \"epsilon\":0.8, \"r\":0.03, \"thau_p\":0.009, \"p_bar\":8}\n",
    "\n",
    "# Defining the new user cost function: \n",
    "def user_costs_q5(h, parameters_q5):\n",
    "    \"\"\" Calculates the user costs of housing.\n",
    "\n",
    "    Args:\n",
    "\n",
    "    h (float): housing\n",
    "    parameters_q5 (dict) : model parameters.\n",
    "\n",
    "    Returns:\n",
    "\n",
    "    (float): costs of housing\n",
    "    \"\"\"\n",
    "    return parameters_q5[\"r\"] * h + AverageT\n",
    "\n",
    "def choose_c_q5(h, m, parameters_q5):\n",
    "    \"\"\" Chooses the optimal consumption based on the housing costs and cash-on-hand.\n",
    "\n",
    "    Args:\n",
    "\n",
    "    h (float): housing\n",
    "    m (float): cash-on-hand\n",
    "    parameters_q5 (dict): model parameters.\n",
    "\n",
    "    Returns:\n",
    "    \n",
    "    (float): the optimal consumption\n",
    "    \"\"\"\n",
    "    return m - user_costs_q5(h, parameters_q5)\n",
    "\n",
    "def obj_q5(h, m, parameters_q5):\n",
    "    \"\"\" Objective function which creates the function that is optimized.\n",
    "\n",
    "    Args:\n",
    "\n",
    "    h (float): housing\n",
    "    m (float): cash-on-hand\n",
    "    parameters_q5 (dict): model parameters.\n",
    "\n",
    "    Returns:\n",
    "    \n",
    "    (float): The optimization function. \n",
    "    \"\"\"\n",
    "    c = choose_c_q5(h, m, parameters_q5)\n",
    "    return -find_utility_q4(c, h, parameters_q5)\n",
    "\n",
    "# Creating new empty list for h_star:\n",
    "h_star_list_q5 = []\n",
    "\n",
    "# Solving maximization problem for each random drawn m:\n",
    "for n in m_random:    \n",
    "    res = optimize.minimize_scalar(obj_q5, args=(n, parameters_q5))\n",
    "    \n",
    "    # Creating lists with results from maximization\n",
    "    h_star_q5 = res.x\n",
    "    h_star_list_q5.append(h_star_q5)\n",
    "\n",
    "# Converting h_matrix to a numpy array:\n",
    "h_matrix_q5 = np.array(h_star_list_q5)\n",
    "\n",
    "# Generating p_star:\n",
    "p_star_q5 = h_matrix_q5 * parameters_q5[\"epsilon\"]\n",
    "\n",
    "# Generating the average of p_star for calculating tau^g:\n",
    "p_N = sum(p_star_q5)/N\n",
    "\n",
    "# Maximizing (p_star-p_bar,0) for each consumer: \n",
    "max_list_q5 = [] # Generating empty lists for max\n",
    "\n",
    "for y in p_star_q5:\n",
    "    d_q5 = max(y - parameters_new[\"p_bar\"], 0)\n",
    "    max_list_q5.append(d_q5)\n",
    "    \n",
    "# Converting max_list to a numpy array:\n",
    "max_q5 = np.array(max_list_q5)\n",
    "\n",
    "# Generating the average of the max-function for calculating tau^g:\n",
    "max_N = sum(parameters_q5['thau_p']*max_q5)/N\n",
    "\n",
    "# Calculating tau^g:\n",
    "tau_g_new = (AverageT - max_N)/p_N\n",
    "print(tau_g_new)\n",
    "\n",
    "# Checking if we get the right tax revenue with the thau^g found above:\n",
    "T_test = tau_g_new*p_N+max_N\n",
    "print(T_test*1000000)\n"
   ]
  },
  {
   "cell_type": "markdown",
   "metadata": {},
   "source": [
    "# Conclusion"
   ]
  },
  {
   "cell_type": "markdown",
   "metadata": {},
   "source": [
    "In this assignment we find that the household's optimal amounts of housing, $h^*$, is 4.2 mill. DKK and consumption of other goods, $c^*$, is 400,000 DKK, which gives an optimal utility of 0.7. When we consider a population of 10,000 households, we find that the average tax burden per household is 36,327 mill. DKK given a set of parameters. After implementing the new tax system on housing given new parameters, we find ambigious effects. On one hand, each house owner will pay a lower tax of their house, which implies that the average tax burden will decrease. On the other, the public assessments are higher and closer to the market value. We conclude that the average taxes are 46,036 mill. DKK, implying that each house owner will face a larger tax burden. When the policy maker instead decides to implement the reform implicitly, we calculate $\\tau^g$ to 0.006. When $\\tau^g=0.006$ the tax reform changes will be offset, and the average tax payments will still be 36,328 DKK."
   ]
  }
 ],
 "metadata": {
  "kernelspec": {
   "display_name": "Python 3",
   "language": "python",
   "name": "python3"
  },
  "language_info": {
   "codemirror_mode": {
    "name": "ipython",
    "version": 3
   },
   "file_extension": ".py",
   "mimetype": "text/x-python",
   "name": "python",
   "nbconvert_exporter": "python",
   "pygments_lexer": "ipython3",
   "version": "3.8.5"
  },
  "toc-autonumbering": true
 },
 "nbformat": 4,
 "nbformat_minor": 4
}
